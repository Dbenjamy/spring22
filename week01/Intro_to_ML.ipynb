{
  "nbformat": 4,
  "nbformat_minor": 0,
  "metadata": {
    "colab": {
      "name": "Intro to ML.ipynb",
      "provenance": [],
      "collapsed_sections": []
    },
    "kernelspec": {
      "name": "python3",
      "display_name": "Python 3"
    },
    "language_info": {
      "name": "python"
    }
  },
  "cells": [
    {
      "cell_type": "markdown",
      "source": [
        "\n",
        "# Introduction to Machine Learning\n"
      ],
      "metadata": {
        "id": "29XRHH0J9VMz"
      }
    },
    {
      "cell_type": "markdown",
      "source": [
        "## What is Machine Learning?"
      ],
      "metadata": {
        "id": "renXHEwg9d6M"
      }
    },
    {
      "cell_type": "markdown",
      "source": [
        "\n",
        "[CSE 250 - Machine Learning](https://byuistats.github.io/CSE250-Larson/course-materials/machine-learning/)"
      ],
      "metadata": {
        "id": "uhFFqnu29hHq"
      }
    },
    {
      "cell_type": "markdown",
      "source": [
        "## Coding example"
      ],
      "metadata": {
        "id": "PBbMeZOfJrfj"
      }
    },
    {
      "cell_type": "markdown",
      "source": [
        "### Setup"
      ],
      "metadata": {
        "id": "gFNtyQRFJwos"
      }
    },
    {
      "cell_type": "code",
      "execution_count": null,
      "metadata": {
        "id": "bZ-8RjHC9Umb"
      },
      "outputs": [],
      "source": [
        "# libraries\n",
        "import pandas as pd\n",
        "\n",
        "# the Iris dataset GitHub link\n",
        "url = \"https://byuistats.github.io/CSE250-Larson/course-materials/machine-learning/iris.csv\"\n",
        "\n",
        "# use the pandas library to put the data into a useable format\n",
        "# called a dataframe\n",
        "data = pd.read_csv(url)"
      ]
    },
    {
      "cell_type": "markdown",
      "source": [
        "## The data"
      ],
      "metadata": {
        "id": "TKFYKn31KROl"
      }
    },
    {
      "cell_type": "code",
      "source": [
        "# output the dataframe\n",
        "data"
      ],
      "metadata": {
        "colab": {
          "base_uri": "https://localhost:8080/",
          "height": 424
        },
        "id": "EK6i9YwhKVb8",
        "outputId": "192030e7-0010-4184-e369-15bcb741e483"
      },
      "execution_count": null,
      "outputs": [
        {
          "output_type": "execute_result",
          "data": {
            "text/plain": [
              "     sepal_length  sepal_width  petal_length  petal_width         species\n",
              "0             5.1          3.5           1.4          0.2     Iris-setosa\n",
              "1             4.9          3.0           1.4          0.2     Iris-setosa\n",
              "2             4.7          3.2           1.3          0.2     Iris-setosa\n",
              "3             4.6          3.1           1.5          0.2     Iris-setosa\n",
              "4             5.0          3.6           1.4          0.2     Iris-setosa\n",
              "..            ...          ...           ...          ...             ...\n",
              "145           6.7          3.0           5.2          2.3  Iris-virginica\n",
              "146           6.3          2.5           5.0          1.9  Iris-virginica\n",
              "147           6.5          3.0           5.2          2.0  Iris-virginica\n",
              "148           6.2          3.4           5.4          2.3  Iris-virginica\n",
              "149           5.9          3.0           5.1          1.8  Iris-virginica\n",
              "\n",
              "[150 rows x 5 columns]"
            ],
            "text/html": [
              "\n",
              "  <div id=\"df-7f5a3b35-b4d6-4767-8398-f91e6c24890f\">\n",
              "    <div class=\"colab-df-container\">\n",
              "      <div>\n",
              "<style scoped>\n",
              "    .dataframe tbody tr th:only-of-type {\n",
              "        vertical-align: middle;\n",
              "    }\n",
              "\n",
              "    .dataframe tbody tr th {\n",
              "        vertical-align: top;\n",
              "    }\n",
              "\n",
              "    .dataframe thead th {\n",
              "        text-align: right;\n",
              "    }\n",
              "</style>\n",
              "<table border=\"1\" class=\"dataframe\">\n",
              "  <thead>\n",
              "    <tr style=\"text-align: right;\">\n",
              "      <th></th>\n",
              "      <th>sepal_length</th>\n",
              "      <th>sepal_width</th>\n",
              "      <th>petal_length</th>\n",
              "      <th>petal_width</th>\n",
              "      <th>species</th>\n",
              "    </tr>\n",
              "  </thead>\n",
              "  <tbody>\n",
              "    <tr>\n",
              "      <th>0</th>\n",
              "      <td>5.1</td>\n",
              "      <td>3.5</td>\n",
              "      <td>1.4</td>\n",
              "      <td>0.2</td>\n",
              "      <td>Iris-setosa</td>\n",
              "    </tr>\n",
              "    <tr>\n",
              "      <th>1</th>\n",
              "      <td>4.9</td>\n",
              "      <td>3.0</td>\n",
              "      <td>1.4</td>\n",
              "      <td>0.2</td>\n",
              "      <td>Iris-setosa</td>\n",
              "    </tr>\n",
              "    <tr>\n",
              "      <th>2</th>\n",
              "      <td>4.7</td>\n",
              "      <td>3.2</td>\n",
              "      <td>1.3</td>\n",
              "      <td>0.2</td>\n",
              "      <td>Iris-setosa</td>\n",
              "    </tr>\n",
              "    <tr>\n",
              "      <th>3</th>\n",
              "      <td>4.6</td>\n",
              "      <td>3.1</td>\n",
              "      <td>1.5</td>\n",
              "      <td>0.2</td>\n",
              "      <td>Iris-setosa</td>\n",
              "    </tr>\n",
              "    <tr>\n",
              "      <th>4</th>\n",
              "      <td>5.0</td>\n",
              "      <td>3.6</td>\n",
              "      <td>1.4</td>\n",
              "      <td>0.2</td>\n",
              "      <td>Iris-setosa</td>\n",
              "    </tr>\n",
              "    <tr>\n",
              "      <th>...</th>\n",
              "      <td>...</td>\n",
              "      <td>...</td>\n",
              "      <td>...</td>\n",
              "      <td>...</td>\n",
              "      <td>...</td>\n",
              "    </tr>\n",
              "    <tr>\n",
              "      <th>145</th>\n",
              "      <td>6.7</td>\n",
              "      <td>3.0</td>\n",
              "      <td>5.2</td>\n",
              "      <td>2.3</td>\n",
              "      <td>Iris-virginica</td>\n",
              "    </tr>\n",
              "    <tr>\n",
              "      <th>146</th>\n",
              "      <td>6.3</td>\n",
              "      <td>2.5</td>\n",
              "      <td>5.0</td>\n",
              "      <td>1.9</td>\n",
              "      <td>Iris-virginica</td>\n",
              "    </tr>\n",
              "    <tr>\n",
              "      <th>147</th>\n",
              "      <td>6.5</td>\n",
              "      <td>3.0</td>\n",
              "      <td>5.2</td>\n",
              "      <td>2.0</td>\n",
              "      <td>Iris-virginica</td>\n",
              "    </tr>\n",
              "    <tr>\n",
              "      <th>148</th>\n",
              "      <td>6.2</td>\n",
              "      <td>3.4</td>\n",
              "      <td>5.4</td>\n",
              "      <td>2.3</td>\n",
              "      <td>Iris-virginica</td>\n",
              "    </tr>\n",
              "    <tr>\n",
              "      <th>149</th>\n",
              "      <td>5.9</td>\n",
              "      <td>3.0</td>\n",
              "      <td>5.1</td>\n",
              "      <td>1.8</td>\n",
              "      <td>Iris-virginica</td>\n",
              "    </tr>\n",
              "  </tbody>\n",
              "</table>\n",
              "<p>150 rows × 5 columns</p>\n",
              "</div>\n",
              "      <button class=\"colab-df-convert\" onclick=\"convertToInteractive('df-7f5a3b35-b4d6-4767-8398-f91e6c24890f')\"\n",
              "              title=\"Convert this dataframe to an interactive table.\"\n",
              "              style=\"display:none;\">\n",
              "        \n",
              "  <svg xmlns=\"http://www.w3.org/2000/svg\" height=\"24px\"viewBox=\"0 0 24 24\"\n",
              "       width=\"24px\">\n",
              "    <path d=\"M0 0h24v24H0V0z\" fill=\"none\"/>\n",
              "    <path d=\"M18.56 5.44l.94 2.06.94-2.06 2.06-.94-2.06-.94-.94-2.06-.94 2.06-2.06.94zm-11 1L8.5 8.5l.94-2.06 2.06-.94-2.06-.94L8.5 2.5l-.94 2.06-2.06.94zm10 10l.94 2.06.94-2.06 2.06-.94-2.06-.94-.94-2.06-.94 2.06-2.06.94z\"/><path d=\"M17.41 7.96l-1.37-1.37c-.4-.4-.92-.59-1.43-.59-.52 0-1.04.2-1.43.59L10.3 9.45l-7.72 7.72c-.78.78-.78 2.05 0 2.83L4 21.41c.39.39.9.59 1.41.59.51 0 1.02-.2 1.41-.59l7.78-7.78 2.81-2.81c.8-.78.8-2.07 0-2.86zM5.41 20L4 18.59l7.72-7.72 1.47 1.35L5.41 20z\"/>\n",
              "  </svg>\n",
              "      </button>\n",
              "      \n",
              "  <style>\n",
              "    .colab-df-container {\n",
              "      display:flex;\n",
              "      flex-wrap:wrap;\n",
              "      gap: 12px;\n",
              "    }\n",
              "\n",
              "    .colab-df-convert {\n",
              "      background-color: #E8F0FE;\n",
              "      border: none;\n",
              "      border-radius: 50%;\n",
              "      cursor: pointer;\n",
              "      display: none;\n",
              "      fill: #1967D2;\n",
              "      height: 32px;\n",
              "      padding: 0 0 0 0;\n",
              "      width: 32px;\n",
              "    }\n",
              "\n",
              "    .colab-df-convert:hover {\n",
              "      background-color: #E2EBFA;\n",
              "      box-shadow: 0px 1px 2px rgba(60, 64, 67, 0.3), 0px 1px 3px 1px rgba(60, 64, 67, 0.15);\n",
              "      fill: #174EA6;\n",
              "    }\n",
              "\n",
              "    [theme=dark] .colab-df-convert {\n",
              "      background-color: #3B4455;\n",
              "      fill: #D2E3FC;\n",
              "    }\n",
              "\n",
              "    [theme=dark] .colab-df-convert:hover {\n",
              "      background-color: #434B5C;\n",
              "      box-shadow: 0px 1px 3px 1px rgba(0, 0, 0, 0.15);\n",
              "      filter: drop-shadow(0px 1px 2px rgba(0, 0, 0, 0.3));\n",
              "      fill: #FFFFFF;\n",
              "    }\n",
              "  </style>\n",
              "\n",
              "      <script>\n",
              "        const buttonEl =\n",
              "          document.querySelector('#df-7f5a3b35-b4d6-4767-8398-f91e6c24890f button.colab-df-convert');\n",
              "        buttonEl.style.display =\n",
              "          google.colab.kernel.accessAllowed ? 'block' : 'none';\n",
              "\n",
              "        async function convertToInteractive(key) {\n",
              "          const element = document.querySelector('#df-7f5a3b35-b4d6-4767-8398-f91e6c24890f');\n",
              "          const dataTable =\n",
              "            await google.colab.kernel.invokeFunction('convertToInteractive',\n",
              "                                                     [key], {});\n",
              "          if (!dataTable) return;\n",
              "\n",
              "          const docLinkHtml = 'Like what you see? Visit the ' +\n",
              "            '<a target=\"_blank\" href=https://colab.research.google.com/notebooks/data_table.ipynb>data table notebook</a>'\n",
              "            + ' to learn more about interactive tables.';\n",
              "          element.innerHTML = '';\n",
              "          dataTable['output_type'] = 'display_data';\n",
              "          await google.colab.output.renderOutput(dataTable, element);\n",
              "          const docLink = document.createElement('div');\n",
              "          docLink.innerHTML = docLinkHtml;\n",
              "          element.appendChild(docLink);\n",
              "        }\n",
              "      </script>\n",
              "    </div>\n",
              "  </div>\n",
              "  "
            ]
          },
          "metadata": {},
          "execution_count": 2
        }
      ]
    },
    {
      "cell_type": "markdown",
      "source": [
        "### Features"
      ],
      "metadata": {
        "id": "6cd_wkUZLtF-"
      }
    },
    {
      "cell_type": "code",
      "source": [
        "# print out the column headings using a pandas dataframe attribute\n",
        "[print(col) for col in data.columns]; # https://www.w3schools.com/python/python_lists_comprehension.asp"
      ],
      "metadata": {
        "colab": {
          "base_uri": "https://localhost:8080/"
        },
        "id": "7QTei1nVI9lP",
        "outputId": "edcd20c1-ab5b-4dbe-90ee-5b3b8b0ca465"
      },
      "execution_count": null,
      "outputs": [
        {
          "output_type": "stream",
          "name": "stdout",
          "text": [
            "sepal_length\n",
            "sepal_width\n",
            "petal_length\n",
            "petal_width\n",
            "species\n"
          ]
        }
      ]
    },
    {
      "cell_type": "markdown",
      "source": [
        "This is what we will use to separate the data when we put it into our model."
      ],
      "metadata": {
        "id": "tutxULahL6M_"
      }
    },
    {
      "cell_type": "markdown",
      "source": [
        "### Target Values"
      ],
      "metadata": {
        "id": "dgw6xbotLvuk"
      }
    },
    {
      "cell_type": "code",
      "source": [
        "# print out the species of iris\n",
        "[print(species) for species in data.species.unique()];"
      ],
      "metadata": {
        "colab": {
          "base_uri": "https://localhost:8080/"
        },
        "id": "vTCxtdVpLFlT",
        "outputId": "7d2c3ad0-e180-4ab2-d18b-99e7fc458b00"
      },
      "execution_count": null,
      "outputs": [
        {
          "output_type": "stream",
          "name": "stdout",
          "text": [
            "Iris-setosa\n",
            "Iris-versicolor\n",
            "Iris-virginica\n"
          ]
        }
      ]
    },
    {
      "cell_type": "markdown",
      "source": [
        "These are the values we are looking to predict based on the features from above."
      ],
      "metadata": {
        "id": "dvoDgwuLMOJI"
      }
    },
    {
      "cell_type": "markdown",
      "source": [
        "This is the point where we would normally do EDA or exploratory data analysis. We want to know what our data looks like so that we can figure out how to manipulate the data to help our model perform better. \n",
        "\n",
        "Data in the real world is messy and generally we have to do a lot of cleaning, preparing, and formatting to get the data to be useable in a model. The Iris dataset comes very clean for our use, this is not typical of the real world. We will be looking at some data cleaning as a part of our semester project."
      ],
      "metadata": {
        "id": "lEUgl_IIP2VT"
      }
    },
    {
      "cell_type": "markdown",
      "source": [
        "## The Model"
      ],
      "metadata": {
        "id": "auFXQuvUMgwM"
      }
    },
    {
      "cell_type": "markdown",
      "source": [
        "### Split the data\n",
        "This is known as a train test split"
      ],
      "metadata": {
        "id": "Z58ogkcjPCey"
      }
    },
    {
      "cell_type": "code",
      "source": [
        "from sklearn.model_selection import train_test_split\n",
        "\n",
        "# features = [sepal_length, sepal_width, petal_length, petal_width]\n",
        "# targets = [species]\n",
        "\n",
        "# Features or predictors\n",
        "features = data.drop(columns=['species'])\n",
        "# Target\n",
        "targets = data['species']\n",
        "\n",
        "# Randomize and split the samples into two groups.\n",
        "# 30% of the samples will be used for testing.\n",
        "# The other 70% will be used for training.\n",
        "\n",
        "# train_data, test_data, train_targets, test_targets = train_test_split(features, targets, test_size=.3)\n",
        "train_data, test_data, train_targets, test_targets = train_test_split(features, targets, test_size=.3)"
      ],
      "metadata": {
        "id": "2St_9-uwHigw"
      },
      "execution_count": null,
      "outputs": []
    },
    {
      "cell_type": "markdown",
      "source": [
        "There are various ways we can do this to help our model utilize our data, like we could split the training data again and have a \"dev\" set or a holdout set for testing our model's results. We will look at these options in the future."
      ],
      "metadata": {
        "id": "nsRRaFDrPLP_"
      }
    },
    {
      "cell_type": "markdown",
      "source": [
        "## The Results"
      ],
      "metadata": {
        "id": "hqymH8p1TyCF"
      }
    },
    {
      "cell_type": "code",
      "source": [
        "# Training the data\n",
        "from sklearn.naive_bayes import GaussianNB\n",
        "\n",
        "# This is a class for the model we are using\n",
        "classifier = GaussianNB() \n",
        "\n",
        "# We have to fit the model to the data\n",
        "classifier.fit(train_data, train_targets);"
      ],
      "metadata": {
        "id": "ThSR6-LCHyfv"
      },
      "execution_count": null,
      "outputs": []
    },
    {
      "cell_type": "code",
      "source": [
        "# Now that the model is fit, we can use it to predict things\n",
        "# using our test data\n",
        "\n",
        "predictions = classifier.predict(test_data)"
      ],
      "metadata": {
        "id": "QqGAaR9XTnmW"
      },
      "execution_count": null,
      "outputs": []
    },
    {
      "cell_type": "code",
      "source": [
        "# We can now look at the accuracy of our model\n",
        "from sklearn.metrics import accuracy_score\n",
        "\n",
        "accuracy = accuracy_score(test_targets, predictions)\n",
        "\n",
        "print('Accuracy: %2.2f' %(accuracy * 100), end='%')"
      ],
      "metadata": {
        "colab": {
          "base_uri": "https://localhost:8080/"
        },
        "id": "UT0VRbnqUVv1",
        "outputId": "0a708bca-a3c2-4ad8-9961-cd35ad7efbfc"
      },
      "execution_count": null,
      "outputs": [
        {
          "output_type": "stream",
          "name": "stdout",
          "text": [
            "Accuracy: 95.56%"
          ]
        }
      ]
    },
    {
      "cell_type": "markdown",
      "source": [
        "## Another Example"
      ],
      "metadata": {
        "id": "ICGmQ8J0Y-v6"
      }
    },
    {
      "cell_type": "code",
      "source": [
        "from xgboost import XGBClassifier\n",
        "from sklearn.metrics import mean_squared_error, r2_score, plot_roc_curve, classification_report\n",
        "import seaborn as sns\n",
        "\n",
        "# Train Test Split with Holdout\n",
        "X = features.copy()\n",
        "y = targets.copy()\n",
        "\n",
        "X, X_test, y, y_test = train_test_split(X, y, random_state=42, train_size=0.8)\n",
        "X_train, X_dev, y_train, y_dev = train_test_split(X, y, random_state=42, train_size=0.8)\n",
        "\n",
        "# Fit differnt model type\n",
        "model = XGBClassifier()\n",
        "model.fit(X_train, y_train)\n",
        "\n",
        "# Preditions\n",
        "predictions = model.predict(X_test)\n",
        "holdout_predictions = model.predict(X_dev)\n",
        "\n",
        "# Results\n",
        "print('=' * 60)\n",
        "print(\"  Test\")\n",
        "print('=' * 60)\n",
        "print(classification_report(y_test, predictions))\n",
        "print('=' * 60)\n",
        "print(\"  Holdout\")\n",
        "print('=' * 60)\n",
        "print(classification_report(y_dev, holdout_predictions))\n",
        "print('=' * 60)\n",
        "\n",
        "# Feature Importance\n",
        "importance = model.feature_importances_\n",
        "\n",
        "df = pd.DataFrame(list(zip(importance, X.columns.to_list())),\n",
        "                  columns=['importance', 'feature'])\n",
        "\n",
        "df = df.sort_values(by='importance', ascending=False)\n",
        "sns.set(rc={'figure.figsize': (11.7, 8.27)})\n",
        "sns.barplot(data=df, x='importance', y='feature');"
      ],
      "metadata": {
        "colab": {
          "base_uri": "https://localhost:8080/",
          "height": 999
        },
        "id": "RVv9LpEoZDuf",
        "outputId": "99fa737c-d048-4fef-f8ca-15693a32f4aa"
      },
      "execution_count": null,
      "outputs": [
        {
          "output_type": "stream",
          "name": "stdout",
          "text": [
            "============================================================\n",
            "  Test\n",
            "============================================================\n",
            "                 precision    recall  f1-score   support\n",
            "\n",
            "    Iris-setosa       1.00      1.00      1.00        10\n",
            "Iris-versicolor       1.00      1.00      1.00         9\n",
            " Iris-virginica       1.00      1.00      1.00        11\n",
            "\n",
            "       accuracy                           1.00        30\n",
            "      macro avg       1.00      1.00      1.00        30\n",
            "   weighted avg       1.00      1.00      1.00        30\n",
            "\n",
            "============================================================\n",
            "  Holdout\n",
            "============================================================\n",
            "                 precision    recall  f1-score   support\n",
            "\n",
            "    Iris-setosa       1.00      1.00      1.00         8\n",
            "Iris-versicolor       1.00      0.82      0.90        11\n",
            " Iris-virginica       0.71      1.00      0.83         5\n",
            "\n",
            "       accuracy                           0.92        24\n",
            "      macro avg       0.90      0.94      0.91        24\n",
            "   weighted avg       0.94      0.92      0.92        24\n",
            "\n",
            "============================================================\n"
          ]
        },
        {
          "output_type": "display_data",
          "data": {
            "text/plain": [
              "<Figure size 842.4x595.44 with 1 Axes>"
            ],
            "image/png": "[encoded data removed]"
          },
          "metadata": {}
        }
      ]
    }
  ]
}