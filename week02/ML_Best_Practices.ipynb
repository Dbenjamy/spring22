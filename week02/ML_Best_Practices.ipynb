{
  "nbformat": 4,
  "nbformat_minor": 0,
  "metadata": {
    "colab": {
      "name": "ML Best Practices.ipynb",
      "provenance": [],
      "collapsed_sections": []
    },
    "kernelspec": {
      "name": "python3",
      "display_name": "Python 3"
    },
    "language_info": {
      "name": "python"
    }
  },
  "cells": [
    {
      "cell_type": "markdown",
      "source": [
        "# <font color=lightblue>Best practices"
      ],
      "metadata": {
        "id": "bhTV1iGfTOyr"
      }
    },
    {
      "cell_type": "markdown",
      "source": [
        "## <font color=lightblue>Data cleaning\n",
        "- Null values or empty data is generally bad\n",
        "- We can't always just drop bad data\n",
        "- For most models, we want to have numerical data only"
      ],
      "metadata": {
        "id": "gLalBxdRHUO-"
      }
    },
    {
      "cell_type": "markdown",
      "source": [
        "## <font color=lightblue>EDA\n",
        "- Look at the big picture\n",
        "- Don't be afraid to pull in outside data\n",
        "- This is where much of your time should be spent"
      ],
      "metadata": {
        "id": "2bbXx7K_TKQd"
      }
    },
    {
      "cell_type": "markdown",
      "source": [
        "## <font color=lightblue>Feature engineering\n",
        "- If we have a small amount of data, we should consider over and under fitting\n",
        "- Any data transformations we do, we need to make sure it is applied to all data (usually before we split)\n",
        "- Make sure no new features are \"peeking\"\n",
        "- Be careful with sequential data"
      ],
      "metadata": {
        "id": "bkUTzlW2TIXK"
      }
    },
    {
      "cell_type": "markdown",
      "source": [
        "## <font color=lightblue>Building a model\n",
        "- What problem are we solving?\n",
        "- Having a holdout set helps rule out fake learning\n",
        "- Keep it simple\n",
        "- Make use of tools like early stopping and tensorboard\n",
        "- Use logs and save your model"
      ],
      "metadata": {
        "id": "urjIbzRtTGLX"
      }
    },
    {
      "cell_type": "markdown",
      "source": [
        "## <font color=lightblue>Interpretation\n",
        "- What does the model tell us?\n",
        "- Is it telling us the right thing?\n",
        "- Focus on key metrics like the val_loss (i.e. Precision, Recall, RMSE, R^2)\n",
        "- It's okay to have \"good enough\"\n"
      ],
      "metadata": {
        "id": "_UOBmVarS3Zi"
      }
    }
  ]
}